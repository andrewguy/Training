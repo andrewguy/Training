{
 "cells": [
  {
   "cell_type": "markdown",
   "metadata": {},
   "source": [
    "# An Introduction to Python"
   ]
  },
  {
   "cell_type": "markdown",
   "metadata": {
    "slideshow": {
     "slide_type": "slide"
    }
   },
   "source": [
    "Python is one of the most popular programming languages, and is widely used in a variety of fields. In particular, Python is used extensively for data science owing to the large number of open-source machine learning and data science libraries written for Python. Python code is designed to be easy to write and easy to read, keeping unnecessary details (such as memory management) hidden from the programmer and user.\n",
    "\n",
    "While Python often gets a lot of flack for being slower than other languages such as C++ or Fortran, modern Python libraries such as Numpy and TensorFlow are highly optimized for numerical computation, largely eliminating this speed difference.\n",
    "\n",
    "In this tutorial we will cover some of the basics of Python, with a focus on usage in a scientific computing setting.\n",
    "\n",
    "This is not intended to be a comprehensive tutorial, but rather a taste of what is possible with Python, as well as providing a general foundation for you to go and explore Python further.\n"
   ]
  },
  {
   "cell_type": "markdown",
   "metadata": {},
   "source": [
    "## Part 1: Features of Python\n",
    "\n",
    "\n",
    "> Python is an interpreted, high-level, general-purpose programming language. *--Wikipedia*\n",
    "\n",
    "- No need to compile code before running it (interpreted vs compiled)\n",
    "- Low-level details such as memory-management are hidden from the user (high-level)\n",
    "- Can be used for a wide variety of tasks, including web-programming, scientific analysis, server management, file manipulation etc. (general purpose)."
   ]
  },
  {
   "cell_type": "markdown",
   "metadata": {},
   "source": [
    "## A brief note about Python versions...\n",
    "\n",
    "Python 2.7 was the most commonly used Python version for a long time, but it has now reached the end of it's life. A number of breaking changes were introduced in Python 3, making conversion between Python 2 and 3 difficult.\n",
    "\n",
    "Most major scientific computing projects (Numpy, Scipy etc) are ceasing support for Python 2.7 from 2020 onwards. Under no circumstances should you be writing new code in Python 2.7!!\n",
    "\n",
    "For any new projects, use Python 3 (ideally one of the more recent version - >3.7)."
   ]
  },
  {
   "cell_type": "markdown",
   "metadata": {},
   "source": [
    "## Part 2: Variables, data types\n",
    "\n",
    "Python has a number of [fundamental data types](https://docs.python.org/3/library/stdtypes.html#), including numeric types (`int`, `float` and `complex`), sequence types (`list`, `tuple`, `range`), string types (`str`), mapping types (`dict`) and set types (`set`).\n",
    "\n",
    "While some of these might sound quite foreign at the moment, we will explore some of these data types in the next few steps.\n",
    "\n",
    "When writing Python code, we often assign variables to a particular value. In Python, this assignment is performed by writing the variable name on the left, followed by the `=` sign and the value to be assigned on the right. For example:"
   ]
  },
  {
   "cell_type": "code",
   "execution_count": 1,
   "metadata": {},
   "outputs": [],
   "source": [
    "interesting_gene = \"PF3D7_0731500\"\n",
    "\n",
    "is_protein_coding = True\n",
    "\n",
    "is_expressed_in_gametocytes = False\n",
    "\n",
    "number_of_genes = 5268\n",
    "\n",
    "average_gene_length = 1034.56\n",
    "\n",
    "gene_list = ['PF3D7_0731500', 'PF3D7_1133400', \"PF3D7_0707300\"]\n",
    "\n",
    "protein_length_dict = {'PF3D7_0731500': 1504, \n",
    "                       'PF3D7_1133400': 2056,\n",
    "                       'PF3D7_0707300': 746}\n",
    "\n",
    "gene_ontology_term_set = {\"ATP Binding\", \"GTPase Activity\", \"Unfolded Protein Binding\"}\n"
   ]
  },
  {
   "cell_type": "markdown",
   "metadata": {},
   "source": [
    "In the above example, we have assigned values to a number of variables.\n",
    "\n",
    "If we want to find out what value a particular variable point to, we can use the `print` function:"
   ]
  },
  {
   "cell_type": "code",
   "execution_count": 2,
   "metadata": {},
   "outputs": [
    {
     "name": "stdout",
     "output_type": "stream",
     "text": [
      "5268\n"
     ]
    }
   ],
   "source": [
    "print(number_of_genes)"
   ]
  },
  {
   "cell_type": "markdown",
   "metadata": {},
   "source": [
    "Alternatively, if you write out the variable name by itself at the end of a code cell in Jupyter Notebook, it will print out the value (just like using the print function):"
   ]
  },
  {
   "cell_type": "code",
   "execution_count": 3,
   "metadata": {},
   "outputs": [
    {
     "data": {
      "text/plain": [
       "5000"
      ]
     },
     "execution_count": 3,
     "metadata": {},
     "output_type": "execute_result"
    }
   ],
   "source": [
    "number_of_genes = 5000\n",
    "\n",
    "average_gene_length = 1034.56\n",
    "\n",
    "number_of_genes"
   ]
  },
  {
   "cell_type": "markdown",
   "metadata": {},
   "source": [
    "If you want to print out mutliple values within a code cell, you will have to use the `print` function."
   ]
  },
  {
   "cell_type": "markdown",
   "metadata": {},
   "source": [
    "Any written code often needs comments to explain particular decisions, or alert other contributors to particular issues or design considerations.\n",
    "\n",
    "In Python, any line that starts with a `#` symbol is considered to be a comment, and is ignored when running the code. For example:"
   ]
  },
  {
   "cell_type": "code",
   "execution_count": 4,
   "metadata": {},
   "outputs": [
    {
     "name": "stdout",
     "output_type": "stream",
     "text": [
      "1078.2\n"
     ]
    }
   ],
   "source": [
    "# This is a comment. I can write what I like here...\n",
    "\n",
    "average_gene_length = 1078.2\n",
    "\n",
    "# average_gene_length = 9000!  \n",
    "# Note that the above line is not run, even if it is valid code (except for the # symbol)\n",
    "\n",
    "print(average_gene_length)"
   ]
  },
  {
   "cell_type": "markdown",
   "metadata": {},
   "source": [
    "While it is good to thoroughly document your code, comments are no replacement for sensible variable names. `average_gene_length` is a much more descriptive variable name than `av_gl` or `x`.\n",
    "\n",
    "On the topic of variable names, there are a few rules when naming variables:\n",
    "- Must begin with a letter (a - z, A - B) or underscore (_)\n",
    "- Other characters can be letters, numbers or _\n",
    "- Case Sensitive.\n",
    "- Can be any (reasonable) length.\n",
    "- There are some reserved words which you cannot use as a variable name because Python uses them for other things.\n",
    "\n",
    "Apart from this, there are a [few conventions](https://www.python.org/dev/peps/pep-0008/#naming-conventions) for naming particular types of variables. We will use these conventions for the rest of the tutorial, but won't go into more detail here."
   ]
  },
  {
   "cell_type": "markdown",
   "metadata": {},
   "source": [
    "## Data types\n",
    "\n",
    "We will now explore a number of data types in Python.\n",
    "\n",
    "If you are ever unsure what type a particular variable holds, you can use the `type` function:"
   ]
  },
  {
   "cell_type": "code",
   "execution_count": 5,
   "metadata": {},
   "outputs": [
    {
     "data": {
      "text/plain": [
       "float"
      ]
     },
     "execution_count": 5,
     "metadata": {},
     "output_type": "execute_result"
    }
   ],
   "source": [
    "type(average_gene_length)"
   ]
  },
  {
   "cell_type": "markdown",
   "metadata": {},
   "source": [
    "### Strings"
   ]
  },
  {
   "cell_type": "markdown",
   "metadata": {},
   "source": [
    "Strings are a fundamental data type in Python, and hold a string of characters (letters, numbers, symbols... Any unicode character is acceptable!).\n",
    "\n",
    "There are a number of [built-in functions](https://docs.python.org/3.7/library/stdtypes.html#string-methods) that help us manipulate strings &mdash; we will explore a few of theme here."
   ]
  },
  {
   "cell_type": "code",
   "execution_count": 6,
   "metadata": {},
   "outputs": [
    {
     "name": "stdout",
     "output_type": "stream",
     "text": [
      "PF3D7_0731500\n",
      "<class 'str'>\n"
     ]
    }
   ],
   "source": [
    "# Strings\n",
    "\n",
    "print(interesting_gene)\n",
    "print(type(interesting_gene))"
   ]
  },
  {
   "cell_type": "code",
   "execution_count": 7,
   "metadata": {},
   "outputs": [
    {
     "data": {
      "text/plain": [
       "'PF3D7_0731500.fasta'"
      ]
     },
     "execution_count": 7,
     "metadata": {},
     "output_type": "execute_result"
    }
   ],
   "source": [
    "# Can join strings together\n",
    "\n",
    "file_name = interesting_gene + \".fasta\"\n",
    "\n",
    "file_name"
   ]
  },
  {
   "cell_type": "code",
   "execution_count": 8,
   "metadata": {},
   "outputs": [
    {
     "data": {
      "text/plain": [
       "['PF3D7_0731500', 'fasta']"
      ]
     },
     "execution_count": 8,
     "metadata": {},
     "output_type": "execute_result"
    }
   ],
   "source": [
    "# Can split strings at particular characters\n",
    "\n",
    "file_name.split('.')"
   ]
  },
  {
   "cell_type": "code",
   "execution_count": 9,
   "metadata": {},
   "outputs": [
    {
     "name": "stdout",
     "output_type": "stream",
     "text": [
      "True\n",
      "False\n"
     ]
    }
   ],
   "source": [
    "# Can check if a string starts/ends with a particular phrase\n",
    "\n",
    "print(file_name.endswith('.fasta'))\n",
    "\n",
    "print(file_name.startswith('PV'))"
   ]
  },
  {
   "cell_type": "code",
   "execution_count": 10,
   "metadata": {},
   "outputs": [
    {
     "name": "stdout",
     "output_type": "stream",
     "text": [
      "This is a\n",
      "multi-line\n",
      "string\n"
     ]
    }
   ],
   "source": [
    "# Mutiline strings are also possible - use triple-quotes\n",
    "\n",
    "multiple_line_string = \"\"\"This is a\n",
    "multi-line\n",
    "string\"\"\"\n",
    "\n",
    "print(multiple_line_string)"
   ]
  },
  {
   "cell_type": "code",
   "execution_count": 11,
   "metadata": {},
   "outputs": [
    {
     "name": "stdout",
     "output_type": "stream",
     "text": [
      "There are 5000 genes in P. falciparum\n",
      "There are 5000 genes in P. falciparum\n"
     ]
    }
   ],
   "source": [
    "# Many ways to put variables into a string. The easiest way is f-strings\n",
    "# (not supported on Python versions < 3.6)...\n",
    "\n",
    "print(f\"There are {number_of_genes} genes in P. falciparum\")\n",
    "\n",
    "# Can also use .format()\n",
    "\n",
    "print(\"There are {x} genes in P. falciparum\".format(x=number_of_genes))"
   ]
  },
  {
   "cell_type": "markdown",
   "metadata": {},
   "source": [
    "### Integers"
   ]
  },
  {
   "cell_type": "markdown",
   "metadata": {},
   "source": [
    "Integers (`int`) are one of the several numeric data types, and are used to represent whole numbers."
   ]
  },
  {
   "cell_type": "code",
   "execution_count": 12,
   "metadata": {},
   "outputs": [
    {
     "name": "stdout",
     "output_type": "stream",
     "text": [
      "5000\n",
      "<class 'int'>\n"
     ]
    }
   ],
   "source": [
    "print(number_of_genes)\n",
    "\n",
    "print(type(number_of_genes))"
   ]
  },
  {
   "cell_type": "code",
   "execution_count": 13,
   "metadata": {},
   "outputs": [
    {
     "name": "stdout",
     "output_type": "stream",
     "text": [
      "587\n"
     ]
    }
   ],
   "source": [
    "# Can add or subtract integers\n",
    "\n",
    "number_of_genes = 5601\n",
    "\n",
    "protein_coding = 5014\n",
    "\n",
    "non_protein_coding_genes = number_of_genes - protein_coding\n",
    "\n",
    "print(non_protein_coding_genes)"
   ]
  },
  {
   "cell_type": "code",
   "execution_count": 14,
   "metadata": {},
   "outputs": [
    {
     "name": "stdout",
     "output_type": "stream",
     "text": [
      "9432\n",
      "5.0\n",
      "160000\n"
     ]
    }
   ],
   "source": [
    "# Can divide, multiply, exponentiate\n",
    "\n",
    "print(786 * 12)\n",
    "\n",
    "print(20 / 4)\n",
    "\n",
    "print(20 ** 4)\n"
   ]
  },
  {
   "cell_type": "markdown",
   "metadata": {},
   "source": [
    "What do you notice about integer division?"
   ]
  },
  {
   "cell_type": "code",
   "execution_count": 15,
   "metadata": {},
   "outputs": [
    {
     "name": "stdout",
     "output_type": "stream",
     "text": [
      "<class 'int'>\n",
      "<class 'float'>\n"
     ]
    }
   ],
   "source": [
    "# Hint...\n",
    "print(type(20 * 4))\n",
    "print(type(20 / 4))"
   ]
  },
  {
   "cell_type": "markdown",
   "metadata": {},
   "source": [
    "Also consider:"
   ]
  },
  {
   "cell_type": "code",
   "execution_count": 4,
   "metadata": {},
   "outputs": [
    {
     "name": "stdout",
     "output_type": "stream",
     "text": [
      "6.666666666666667\n",
      "<class 'float'>\n"
     ]
    }
   ],
   "source": [
    "print(20 / 3)\n",
    "print(type(20 / 3))"
   ]
  },
  {
   "cell_type": "markdown",
   "metadata": {},
   "source": [
    "### Floats"
   ]
  },
  {
   "cell_type": "markdown",
   "metadata": {},
   "source": [
    "Floats (`float`) are another numeric data type used to hold [floating-point numbers](https://en.wikipedia.org/wiki/Floating-point_arithmetic#Floating-point_numbers).\n",
    "\n",
    "For the moment, you can consider that these are *almost* the same as decimal numbers, with some limitations on precision. See [here](https://docs.python.org/3/tutorial/floatingpoint.html) for an in-depth description of some limitations of floating point numbers."
   ]
  },
  {
   "cell_type": "code",
   "execution_count": 16,
   "metadata": {},
   "outputs": [
    {
     "data": {
      "text/plain": [
       "float"
      ]
     },
     "execution_count": 16,
     "metadata": {},
     "output_type": "execute_result"
    }
   ],
   "source": [
    "average_gene_length = 1034.56\n",
    "\n",
    "type(average_gene_length)"
   ]
  },
  {
   "cell_type": "code",
   "execution_count": 17,
   "metadata": {},
   "outputs": [
    {
     "data": {
      "text/plain": [
       "1068.56"
      ]
     },
     "execution_count": 17,
     "metadata": {},
     "output_type": "execute_result"
    }
   ],
   "source": [
    "# Mixing floats and ints\n",
    "\n",
    "1034.56 + 34"
   ]
  },
  {
   "cell_type": "markdown",
   "metadata": {},
   "source": [
    "### Booleans\n",
    "\n",
    "Booleans are a data type that represent True and False, and are often the result of comparing variables (see logical tests below).\n",
    "\n",
    "There are only two boolean values - `True` and `False`. Capitalisation matters here - `false`, `FALSE`, or `f` are not boolean values!"
   ]
  },
  {
   "cell_type": "code",
   "execution_count": 6,
   "metadata": {},
   "outputs": [
    {
     "name": "stdout",
     "output_type": "stream",
     "text": [
      "True\n"
     ]
    }
   ],
   "source": [
    "# Booleans\n",
    "\n",
    "is_protein_coding = True\n",
    "is_interesting = False\n",
    "\n",
    "print(is_protein_coding)\n"
   ]
  },
  {
   "cell_type": "markdown",
   "metadata": {},
   "source": [
    "### Comparisons\n",
    "\n",
    "Python has a number of [comparison operators](https://docs.python.org/3/reference/expressions.html#value-comparisons). The operators `<`, `>`, `==`, `>=`, `<=`, and `!=` compare the values of two objects.\n",
    "\n",
    "All comparison operators will return a boolean value &mdash; either `True` or `False`."
   ]
  },
  {
   "cell_type": "code",
   "execution_count": 19,
   "metadata": {},
   "outputs": [
    {
     "data": {
      "text/plain": [
       "True"
      ]
     },
     "execution_count": 19,
     "metadata": {},
     "output_type": "execute_result"
    }
   ],
   "source": [
    "3 < 6"
   ]
  },
  {
   "cell_type": "code",
   "execution_count": 20,
   "metadata": {},
   "outputs": [
    {
     "data": {
      "text/plain": [
       "False"
      ]
     },
     "execution_count": 20,
     "metadata": {},
     "output_type": "execute_result"
    }
   ],
   "source": [
    "3 > 6"
   ]
  },
  {
   "cell_type": "code",
   "execution_count": 21,
   "metadata": {},
   "outputs": [
    {
     "data": {
      "text/plain": [
       "False"
      ]
     },
     "execution_count": 21,
     "metadata": {},
     "output_type": "execute_result"
    }
   ],
   "source": [
    "3 == 6"
   ]
  },
  {
   "cell_type": "code",
   "execution_count": 22,
   "metadata": {},
   "outputs": [
    {
     "data": {
      "text/plain": [
       "True"
      ]
     },
     "execution_count": 22,
     "metadata": {},
     "output_type": "execute_result"
    }
   ],
   "source": [
    "6 == 6"
   ]
  },
  {
   "cell_type": "code",
   "execution_count": 23,
   "metadata": {},
   "outputs": [
    {
     "data": {
      "text/plain": [
       "False"
      ]
     },
     "execution_count": 23,
     "metadata": {},
     "output_type": "execute_result"
    }
   ],
   "source": [
    "6 == '6'"
   ]
  },
  {
   "cell_type": "code",
   "execution_count": 24,
   "metadata": {},
   "outputs": [
    {
     "data": {
      "text/plain": [
       "True"
      ]
     },
     "execution_count": 24,
     "metadata": {},
     "output_type": "execute_result"
    }
   ],
   "source": [
    "6 != '6'"
   ]
  },
  {
   "cell_type": "markdown",
   "metadata": {},
   "source": [
    "### Logical tests\n",
    "\n",
    "You can also perform logical tests to combine multiple boolean values. These are `and`, `or` and `not`."
   ]
  },
  {
   "cell_type": "code",
   "execution_count": 25,
   "metadata": {},
   "outputs": [
    {
     "name": "stdout",
     "output_type": "stream",
     "text": [
      "Is protein coding: True\n",
      "Is interesting: False\n",
      "Is protein coding and interesting: False\n",
      "Is protein coding or interesting: True\n"
     ]
    }
   ],
   "source": [
    "# Can perform logical tests\n",
    "\n",
    "\n",
    "print(f\"Is protein coding: {is_protein_coding}\")\n",
    "print(f\"Is interesting: {is_interesting}\")\n",
    "\n",
    "# Logical AND\n",
    "print(f\"Is protein coding and interesting: {is_protein_coding and is_interesting}\")\n",
    "\n",
    "# Logical OR\n",
    "print(f\"Is protein coding or interesting: {is_protein_coding or is_interesting}\")"
   ]
  },
  {
   "cell_type": "code",
   "execution_count": 26,
   "metadata": {},
   "outputs": [
    {
     "data": {
      "text/plain": [
       "False"
      ]
     },
     "execution_count": 26,
     "metadata": {},
     "output_type": "execute_result"
    }
   ],
   "source": [
    "# The `not` test always returns the opposite boolean value.\n",
    "not True"
   ]
  },
  {
   "cell_type": "markdown",
   "metadata": {},
   "source": [
    "Multiple logical comparisons can be combined, using brackets to determine evaluation order if necessary:"
   ]
  },
  {
   "cell_type": "code",
   "execution_count": 7,
   "metadata": {},
   "outputs": [
    {
     "data": {
      "text/plain": [
       "True"
      ]
     },
     "execution_count": 7,
     "metadata": {},
     "output_type": "execute_result"
    }
   ],
   "source": [
    "x = 4\n",
    "(is_protein_coding and is_interesting) or (x > 3)"
   ]
  },
  {
   "cell_type": "markdown",
   "metadata": {},
   "source": [
    "### Identity comparison\n",
    "\n",
    "Python has another comparison operator &mdash; `is`.\n",
    "\n",
    "The `is` operator compares identity, not equality. Consider:"
   ]
  },
  {
   "cell_type": "code",
   "execution_count": 9,
   "metadata": {},
   "outputs": [
    {
     "data": {
      "text/plain": [
       "False"
      ]
     },
     "execution_count": 9,
     "metadata": {},
     "output_type": "execute_result"
    }
   ],
   "source": [
    "x = [1,2,3]\n",
    "y = [1,2,3]\n",
    "x is y"
   ]
  },
  {
   "cell_type": "code",
   "execution_count": 10,
   "metadata": {},
   "outputs": [
    {
     "data": {
      "text/plain": [
       "True"
      ]
     },
     "execution_count": 10,
     "metadata": {},
     "output_type": "execute_result"
    }
   ],
   "source": [
    "x = [1, 2, 3]\n",
    "y = x\n",
    "x is y"
   ]
  },
  {
   "cell_type": "markdown",
   "metadata": {},
   "source": [
    "### Lists"
   ]
  },
  {
   "cell_type": "markdown",
   "metadata": {},
   "source": [
    "Python lists (`list`) are a sequence data type, and can contain any number of values/objects, with no restriction on the type of object at each position in the list.\n",
    "\n",
    "Lists are initialised with square brackets, with each item in the list separated by a comma:"
   ]
  },
  {
   "cell_type": "code",
   "execution_count": 27,
   "metadata": {},
   "outputs": [
    {
     "name": "stdout",
     "output_type": "stream",
     "text": [
      "['PF3D7_0731500', 'PF3D7_1133400', 'PF3D7_0707300']\n"
     ]
    }
   ],
   "source": [
    "gene_list = ['PF3D7_0731500', 'PF3D7_1133400', \"PF3D7_0707300\"]\n",
    "\n",
    "print(gene_list)"
   ]
  },
  {
   "cell_type": "markdown",
   "metadata": {},
   "source": [
    "You can also create a list by calling the list function on another object:"
   ]
  },
  {
   "cell_type": "code",
   "execution_count": 28,
   "metadata": {},
   "outputs": [
    {
     "name": "stdout",
     "output_type": "stream",
     "text": [
      "['P', 'F', '3', 'D', '7', '_', '0', '7', '3', '1', '5', '0', '0']\n"
     ]
    }
   ],
   "source": [
    "list_of_letters = list('PF3D7_0731500')\n",
    "print(list_of_letters)"
   ]
  },
  {
   "cell_type": "code",
   "execution_count": 29,
   "metadata": {},
   "outputs": [
    {
     "data": {
      "text/plain": [
       "3"
      ]
     },
     "execution_count": 29,
     "metadata": {},
     "output_type": "execute_result"
    }
   ],
   "source": [
    "# Check how many elements are in a list\n",
    "\n",
    "len(gene_list)"
   ]
  },
  {
   "cell_type": "markdown",
   "metadata": {},
   "source": [
    "Lists can contain any type of data:"
   ]
  },
  {
   "cell_type": "code",
   "execution_count": 30,
   "metadata": {},
   "outputs": [
    {
     "name": "stdout",
     "output_type": "stream",
     "text": [
      "[1, 'A string', [1, 2, 3], False]\n"
     ]
    },
    {
     "data": {
      "text/plain": [
       "4"
      ]
     },
     "execution_count": 30,
     "metadata": {},
     "output_type": "execute_result"
    }
   ],
   "source": [
    "# Lists can contain any type of data - can also contain mixed data types\n",
    "\n",
    "complex_list = [1, \"A string\", [1,2,3], False]\n",
    "\n",
    "print(complex_list)\n",
    "\n",
    "# Note that the length is the length of the outer-most list, regardless of what is in each position.\n",
    "len(complex_list)"
   ]
  },
  {
   "cell_type": "markdown",
   "metadata": {},
   "source": [
    "Retrieving items from a list is as simple as using square brackets after the list name, with the item index within the brackets.\n",
    "\n",
    "One very important thing to note here is that Python is a zero-indexed language. That means that the first item in the list is accessed with index `0` (unlike R or Matlab, which are 1-indexed)."
   ]
  },
  {
   "cell_type": "code",
   "execution_count": 31,
   "metadata": {},
   "outputs": [
    {
     "name": "stdout",
     "output_type": "stream",
     "text": [
      "Full gene list is ['PF3D7_0731500', 'PF3D7_1133400', 'PF3D7_0707300']\n",
      "First item in list is PF3D7_0731500, and is accessed with index 0\n",
      "Second item in list is PF3D7_1133400, and is accessed with index 1\n",
      "Last item in list is PF3D7_0707300, and is accessed with index -1\n"
     ]
    }
   ],
   "source": [
    "# Getting items from a list - zero indexed!\n",
    "\n",
    "first_gene = gene_list[0]\n",
    "\n",
    "print(f\"Full gene list is {gene_list}\")\n",
    "\n",
    "print(f\"First item in list is {first_gene}, and is accessed with index 0\")\n",
    "\n",
    "second_gene = gene_list[1]\n",
    "\n",
    "print(f\"Second item in list is {second_gene}, and is accessed with index 1\")\n",
    "\n",
    "# Can get the last item with index -1 (regardless of list length)\n",
    "\n",
    "print(f\"Last item in list is {gene_list[-1]}, and is accessed with index -1\")"
   ]
  },
  {
   "cell_type": "markdown",
   "metadata": {},
   "source": [
    "You can also perform list slicing to get a subset of items in the list - this always returns another list.\n",
    "\n",
    "When performing list slicing, you need to specificy the lower bound (inclusive) and the upper bound (not inclusive), seperated by a colon (`:`):"
   ]
  },
  {
   "cell_type": "code",
   "execution_count": 32,
   "metadata": {},
   "outputs": [
    {
     "data": {
      "text/plain": [
       "['PF3D7_0731500', 'PF3D7_1133400']"
      ]
     },
     "execution_count": 32,
     "metadata": {},
     "output_type": "execute_result"
    }
   ],
   "source": [
    "gene_list[0:2]"
   ]
  },
  {
   "cell_type": "markdown",
   "metadata": {},
   "source": [
    "Note that we only return the items with index between `0` and `1` in the above example - the upper bound is not inclusive!"
   ]
  },
  {
   "cell_type": "markdown",
   "metadata": {},
   "source": [
    "You can also return all items to the end of the list (or from the start of the list), by leaving out one of the bounds:"
   ]
  },
  {
   "cell_type": "code",
   "execution_count": 33,
   "metadata": {},
   "outputs": [
    {
     "data": {
      "text/plain": [
       "['PF3D7_0731500', 'PF3D7_1133400']"
      ]
     },
     "execution_count": 33,
     "metadata": {},
     "output_type": "execute_result"
    }
   ],
   "source": [
    "gene_list[:2]"
   ]
  },
  {
   "cell_type": "code",
   "execution_count": 34,
   "metadata": {},
   "outputs": [
    {
     "data": {
      "text/plain": [
       "['PF3D7_1133400', 'PF3D7_0707300']"
      ]
     },
     "execution_count": 34,
     "metadata": {},
     "output_type": "execute_result"
    }
   ],
   "source": [
    "gene_list[1:]"
   ]
  },
  {
   "cell_type": "markdown",
   "metadata": {},
   "source": [
    "Adding items to a list is easy:"
   ]
  },
  {
   "cell_type": "code",
   "execution_count": 35,
   "metadata": {},
   "outputs": [
    {
     "name": "stdout",
     "output_type": "stream",
     "text": [
      "['PF3D7_0731500', 'PF3D7_1133400', 'PF3D7_0707300', 'PF3D7_0712300']\n"
     ]
    }
   ],
   "source": [
    "# Can add items to a list\n",
    "\n",
    "gene_list.append(\"PF3D7_0712300\")\n",
    "\n",
    "print(gene_list)"
   ]
  },
  {
   "cell_type": "markdown",
   "metadata": {},
   "source": [
    "Reassigning items in a list is also easy:"
   ]
  },
  {
   "cell_type": "code",
   "execution_count": 36,
   "metadata": {},
   "outputs": [
    {
     "name": "stdout",
     "output_type": "stream",
     "text": [
      "['A new gene!', 'PF3D7_1133400', 'PF3D7_0707300', 'PF3D7_0712300']\n"
     ]
    }
   ],
   "source": [
    "# Can re-assign items in a list\n",
    "\n",
    "gene_list[0] = \"A new gene!\"\n",
    "\n",
    "print(gene_list)"
   ]
  },
  {
   "cell_type": "markdown",
   "metadata": {},
   "source": [
    "### Dictionaries"
   ]
  },
  {
   "cell_type": "markdown",
   "metadata": {},
   "source": [
    "Lists are useful when you want to store data and access by index.\n",
    "\n",
    "However, when you want to assign a unique key to each piece of data, you can use a dictionary (`dict`).\n",
    "\n",
    "Dictionaries store a *mapping* between `key` and `value` pairs.\n",
    "\n",
    "Python dictionaries must have a unique key for each entry - corresponding values do not have to be unique.\n",
    "\n",
    "Dictionaries are initialised using curly braces (`{}`), with keys and values separated by a colon (`:`), and each entry separated by a comma (`,`)."
   ]
  },
  {
   "cell_type": "code",
   "execution_count": 37,
   "metadata": {},
   "outputs": [],
   "source": [
    "# Unique gene names allow us to store protein length information in a dictionary\n",
    "\n",
    "protein_length_dict = {'PF3D7_0731500': 1504, \n",
    "                       'PF3D7_1133400': 2056,\n",
    "                       'PF3D7_0707300': 746}"
   ]
  },
  {
   "cell_type": "markdown",
   "metadata": {},
   "source": [
    "Values from a dictionary can be accessed in a similar way to list indexing - except you provide the key, rather than the index.\n",
    "\n",
    "Dictionaries are unordered,so using an index does not make sense (even if you wrote out the dictionary entries in a particular order)."
   ]
  },
  {
   "cell_type": "code",
   "execution_count": 38,
   "metadata": {},
   "outputs": [
    {
     "data": {
      "text/plain": [
       "1504"
      ]
     },
     "execution_count": 38,
     "metadata": {},
     "output_type": "execute_result"
    }
   ],
   "source": [
    "# Access dictionary items with keys\n",
    "\n",
    "protein_length_dict['PF3D7_0731500']"
   ]
  },
  {
   "cell_type": "markdown",
   "metadata": {},
   "source": [
    "Similar to lists, assigning a new value to a key is straightforward:"
   ]
  },
  {
   "cell_type": "code",
   "execution_count": 39,
   "metadata": {},
   "outputs": [],
   "source": [
    "# Assign new values (or overwrite old ones)\n",
    "\n",
    "protein_length_dict['new_gene_1'] = 452"
   ]
  },
  {
   "cell_type": "markdown",
   "metadata": {},
   "source": [
    "Accessing a key that doesn't exist will raise an error:"
   ]
  },
  {
   "cell_type": "code",
   "execution_count": 40,
   "metadata": {},
   "outputs": [
    {
     "ename": "KeyError",
     "evalue": "'new_gene_2'",
     "output_type": "error",
     "traceback": [
      "\u001b[0;31m---------------------------------------------------------------------------\u001b[0m",
      "\u001b[0;31mKeyError\u001b[0m                                  Traceback (most recent call last)",
      "\u001b[0;32m<ipython-input-40-c7a79ee684ff>\u001b[0m in \u001b[0;36m<module>\u001b[0;34m()\u001b[0m\n\u001b[0;32m----> 1\u001b[0;31m \u001b[0mprotein_length_dict\u001b[0m\u001b[0;34m[\u001b[0m\u001b[0;34m'new_gene_2'\u001b[0m\u001b[0;34m]\u001b[0m\u001b[0;34m\u001b[0m\u001b[0;34m\u001b[0m\u001b[0m\n\u001b[0m",
      "\u001b[0;31mKeyError\u001b[0m: 'new_gene_2'"
     ]
    }
   ],
   "source": [
    "protein_length_dict['new_gene_2']"
   ]
  },
  {
   "cell_type": "markdown",
   "metadata": {},
   "source": [
    "To avoid this, you can check if a key is in a dictionary:"
   ]
  },
  {
   "cell_type": "code",
   "execution_count": 41,
   "metadata": {},
   "outputs": [
    {
     "data": {
      "text/plain": [
       "True"
      ]
     },
     "execution_count": 41,
     "metadata": {},
     "output_type": "execute_result"
    }
   ],
   "source": [
    "'new_gene_1' in protein_length_dict"
   ]
  },
  {
   "cell_type": "markdown",
   "metadata": {},
   "source": [
    "You can also get values from a dictionary using `get`:"
   ]
  },
  {
   "cell_type": "code",
   "execution_count": 42,
   "metadata": {},
   "outputs": [
    {
     "data": {
      "text/plain": [
       "452"
      ]
     },
     "execution_count": 42,
     "metadata": {},
     "output_type": "execute_result"
    }
   ],
   "source": [
    "protein_length_dict.get(\"new_gene_1\")"
   ]
  },
  {
   "cell_type": "markdown",
   "metadata": {},
   "source": [
    "`get()` takes an optional argument that allows us to assign a default value if key is not found."
   ]
  },
  {
   "cell_type": "code",
   "execution_count": 43,
   "metadata": {},
   "outputs": [
    {
     "data": {
      "text/plain": [
       "-1"
      ]
     },
     "execution_count": 43,
     "metadata": {},
     "output_type": "execute_result"
    }
   ],
   "source": [
    "protein_length_dict.get(\"new_gene_2\", -1)"
   ]
  },
  {
   "cell_type": "markdown",
   "metadata": {},
   "source": [
    "### Other data types - tuples, sets"
   ]
  },
  {
   "cell_type": "markdown",
   "metadata": {},
   "source": [
    "### Tuples"
   ]
  },
  {
   "cell_type": "markdown",
   "metadata": {},
   "source": [
    "Tuples (`tuple`) are like lists, but are immutable (can't be altered once initialised). They are initialised like a `list`, but with `()` brackets instead of `[]`."
   ]
  },
  {
   "cell_type": "code",
   "execution_count": 44,
   "metadata": {},
   "outputs": [
    {
     "name": "stdout",
     "output_type": "stream",
     "text": [
      "('Gene', 'Organism', 'data_file', 'number_of_counts')\n"
     ]
    }
   ],
   "source": [
    "header_tuple = (\"Gene\", \"Organism\", \"data_file\", \"number_of_counts\")\n",
    "\n",
    "print(header_tuple)"
   ]
  },
  {
   "cell_type": "markdown",
   "metadata": {},
   "source": [
    "Trying to change part of a tuple will raise an exception"
   ]
  },
  {
   "cell_type": "code",
   "execution_count": 45,
   "metadata": {},
   "outputs": [
    {
     "ename": "TypeError",
     "evalue": "'tuple' object does not support item assignment",
     "output_type": "error",
     "traceback": [
      "\u001b[0;31m---------------------------------------------------------------------------\u001b[0m",
      "\u001b[0;31mTypeError\u001b[0m                                 Traceback (most recent call last)",
      "\u001b[0;32m<ipython-input-45-cfb842aca20d>\u001b[0m in \u001b[0;36m<module>\u001b[0;34m()\u001b[0m\n\u001b[0;32m----> 1\u001b[0;31m \u001b[0mheader_tuple\u001b[0m\u001b[0;34m[\u001b[0m\u001b[0;36m1\u001b[0m\u001b[0;34m]\u001b[0m \u001b[0;34m=\u001b[0m \u001b[0;34m\"Species\"\u001b[0m\u001b[0;34m\u001b[0m\u001b[0;34m\u001b[0m\u001b[0m\n\u001b[0m",
      "\u001b[0;31mTypeError\u001b[0m: 'tuple' object does not support item assignment"
     ]
    }
   ],
   "source": [
    "header_tuple[1] = \"Species\""
   ]
  },
  {
   "cell_type": "markdown",
   "metadata": {},
   "source": [
    "### Sets"
   ]
  },
  {
   "cell_type": "markdown",
   "metadata": {},
   "source": [
    "Sets (`set`) are collections of unique objects &mdash; sets support intersection, union etc"
   ]
  },
  {
   "cell_type": "code",
   "execution_count": 46,
   "metadata": {},
   "outputs": [
    {
     "data": {
      "text/plain": [
       "{'ATP Binding', 'Unfolded Protein Binding'}"
      ]
     },
     "execution_count": 46,
     "metadata": {},
     "output_type": "execute_result"
    }
   ],
   "source": [
    "gene_ontology_term_set = {\"ATP Binding\", \"GTPase Activity\", \"Unfolded Protein Binding\"}\n",
    "\n",
    "terms_of_interest = {\"ATP Binding\", \"Enzyme Activity\", \"Unfolded Protein Binding\"}\n",
    "\n",
    "gene_ontology_term_set.intersection(terms_of_interest)"
   ]
  },
  {
   "cell_type": "markdown",
   "metadata": {},
   "source": [
    "We can create a set from a list containing duplicates &mdash; this will remove duplicates.\n",
    "Notice that sets are unordered!"
   ]
  },
  {
   "cell_type": "code",
   "execution_count": 47,
   "metadata": {},
   "outputs": [
    {
     "data": {
      "text/plain": [
       "{1, 2, 3, 5, 6}"
      ]
     },
     "execution_count": 47,
     "metadata": {},
     "output_type": "execute_result"
    }
   ],
   "source": [
    "set([1, 2, 3, 1, 2, 5, 3, 6, 5, 3])"
   ]
  },
  {
   "cell_type": "markdown",
   "metadata": {},
   "source": [
    "## Conclusion, Part 2\n",
    "\n",
    "That wraps up our overview of basic data types. Take a break and stretch your legs!\n",
    "\n",
    "There are many other more complex data types from various Python packages. For example, the built-in (`collections` module)[https://docs.python.org/3.7/library/collections.html] has data types such as counters (counts the number of times each value occurs) and ordered dictionaries (like a dictionary, but entries are ordered like a list). Packages such as `numpy` also have their own set of data types."
   ]
  },
  {
   "cell_type": "markdown",
   "metadata": {},
   "source": [
    "# Part 3: Functions, loops and conditionals\n",
    "\n",
    "## Functions"
   ]
  },
  {
   "cell_type": "markdown",
   "metadata": {},
   "source": [
    "Python functions allow us to wrap commonly used pieces of code into reusable methods.\n",
    "\n",
    "We have already used several built-in functions, including `print()` and `len()`.\n",
    "\n",
    "### Defining a function\n",
    "\n",
    "Python functions definitions are indicated by the `def` keyword. Past the initial `def` line, all function code is indented by 4 spaces (some editors will convert a tab keystroke to 4 spaces for you). This indentation indicates that this code all belongs to the function."
   ]
  },
  {
   "cell_type": "code",
   "execution_count": 48,
   "metadata": {},
   "outputs": [],
   "source": [
    "def get_sum_of_protein_lengths(protein_lengths):\n",
    "    '''Takes a dictionary of protein lengths and returns the total combined length.\n",
    "    \n",
    "    Args:\n",
    "        protein_lengths (dict): A dictionary mapping gene names to protein lengths.\n",
    "    Returns:\n",
    "        int: Combined length of all proteins.\n",
    "    '''\n",
    "    lengths = protein_lengths.values()\n",
    "    summed_lengths = sum(lengths)\n",
    "    return summed_lengths"
   ]
  },
  {
   "cell_type": "markdown",
   "metadata": {},
   "source": [
    "Note the extensive description in the above example (surrounded by triple-quotes)!\n",
    "\n",
    "This is known as a doc-string (documentation string), and is an excellent way to document your code. Any function without a docstring is effectively useless!"
   ]
  },
  {
   "cell_type": "markdown",
   "metadata": {},
   "source": [
    "### Calling (or using) a function\n",
    "\n",
    "Functions are called using `( )` brackets, with arguments provided within the brackets as required."
   ]
  },
  {
   "cell_type": "code",
   "execution_count": 49,
   "metadata": {},
   "outputs": [
    {
     "data": {
      "text/plain": [
       "4306"
      ]
     },
     "execution_count": 49,
     "metadata": {},
     "output_type": "execute_result"
    }
   ],
   "source": [
    "protein_length_dict = {'PF3D7_0731500': 1504, \n",
    "                       'PF3D7_1133400': 2056,\n",
    "                       'PF3D7_0707300': 746}\n",
    "\n",
    "get_sum_of_protein_lengths(protein_length_dict)"
   ]
  },
  {
   "cell_type": "markdown",
   "metadata": {},
   "source": [
    "### Returning a value from a function"
   ]
  },
  {
   "cell_type": "markdown",
   "metadata": {},
   "source": [
    "Functions can return values (which are usually assigned to a variable), but sometimes they don't return anything at all!\n",
    "\n",
    "The returned value is indicated by the `return` statement within the function definition &mdash; the value to be returned is written directly after the `return` statement.\n",
    "\n",
    "Even if your function is not returning anything, it is good practice to conclude your function with a `return` statement. If you are not returning a value, you can just write `return` or `return None`.\n",
    "\n",
    "Note that once a function reaches the `return` statement, it does not execute any more code &mdash; `return` essentially tells the function that is has finished running, and needs to return a value!"
   ]
  },
  {
   "cell_type": "code",
   "execution_count": 50,
   "metadata": {},
   "outputs": [],
   "source": [
    "def print_gene_summary(gene_list):\n",
    "    '''Print a formatted summary of all genes (number of genes in list and number of unique genes)\n",
    "    \n",
    "    Args:\n",
    "        gene_list (list): A list of genes.\n",
    "    Returns:\n",
    "        None\n",
    "    '''\n",
    "    print(f\"There are a total of {len(gene_list)} genes, with {len(set(gene_list))} unique genes.\")\n",
    "    return "
   ]
  },
  {
   "cell_type": "code",
   "execution_count": 51,
   "metadata": {},
   "outputs": [
    {
     "name": "stdout",
     "output_type": "stream",
     "text": [
      "There are a total of 5 genes, with 4 unique genes.\n"
     ]
    }
   ],
   "source": [
    "gene_list = ['PF3D7_0731500', 'PF3D7_1133400', 'PF3D7_0707300', 'PF3D7_0712300', 'PF3D7_0712300']\n",
    "print_gene_summary(gene_list)"
   ]
  },
  {
   "cell_type": "markdown",
   "metadata": {},
   "source": [
    "Note that while the above function does something, it doesn't return anything we can save into a variable. If we try and save the output into a variable:"
   ]
  },
  {
   "cell_type": "code",
   "execution_count": 52,
   "metadata": {},
   "outputs": [
    {
     "name": "stdout",
     "output_type": "stream",
     "text": [
      "There are a total of 5 genes, with 4 unique genes.\n"
     ]
    }
   ],
   "source": [
    "function_output = print_gene_summary(gene_list)"
   ]
  },
  {
   "cell_type": "code",
   "execution_count": 53,
   "metadata": {},
   "outputs": [
    {
     "name": "stdout",
     "output_type": "stream",
     "text": [
      "None\n"
     ]
    }
   ],
   "source": [
    "print(function_output)"
   ]
  },
  {
   "cell_type": "markdown",
   "metadata": {},
   "source": [
    "### Importing functions from other packages\n",
    "\n",
    "It is also possible to import functions from other files or packages. This means we don't have to define (`def`) the function within our code, we can just import it and use it. We will discuss imports in more detail later..."
   ]
  },
  {
   "cell_type": "markdown",
   "metadata": {},
   "source": [
    "## Loops and iterators"
   ]
  },
  {
   "cell_type": "markdown",
   "metadata": {},
   "source": [
    "When doing programming, we often need to perform the same action on a whole set of objects/data/values.\n",
    "\n",
    "Programming loops enable us to do this efficiently (without writing out almost identical blocks of code many times).\n",
    "\n",
    "The main loop used in Python is the `for` loop. (Note that this is a little different to `for` loops in some other languages)\n",
    "\n",
    "The `for` loop iterates through an iteratable object (i.e. a `list`, `tuple`, `set` etc), letting you run code on each item in the iteratable.\n",
    "\n",
    "For example, let's iterate over a list of numbers, printing each number in the list:"
   ]
  },
  {
   "cell_type": "code",
   "execution_count": 54,
   "metadata": {},
   "outputs": [
    {
     "name": "stdout",
     "output_type": "stream",
     "text": [
      "1\n",
      "2\n",
      "3\n",
      "4\n",
      "5\n"
     ]
    }
   ],
   "source": [
    "for index in [1, 2, 3, 4, 5]:\n",
    "    print(index)"
   ]
  },
  {
   "cell_type": "markdown",
   "metadata": {},
   "source": [
    "We could also iterate over the list of gene names we created earlier:"
   ]
  },
  {
   "cell_type": "code",
   "execution_count": 55,
   "metadata": {},
   "outputs": [
    {
     "name": "stdout",
     "output_type": "stream",
     "text": [
      "PF3D7_0731500\n",
      "PF3D7_1133400\n",
      "PF3D7_0707300\n",
      "PF3D7_0712300\n",
      "PF3D7_0712300\n"
     ]
    }
   ],
   "source": [
    "for gene in gene_list:\n",
    "    print(gene)"
   ]
  },
  {
   "cell_type": "markdown",
   "metadata": {},
   "source": [
    "Note that the loop variable can be named whatever you like, but it is best to choose a descriptive name.\n",
    "\n",
    "Don't do this:"
   ]
  },
  {
   "cell_type": "code",
   "execution_count": 56,
   "metadata": {},
   "outputs": [
    {
     "name": "stdout",
     "output_type": "stream",
     "text": [
      "PF3D7_0731500\n",
      "PF3D7_1133400\n",
      "PF3D7_0707300\n",
      "PF3D7_0712300\n",
      "PF3D7_0712300\n"
     ]
    }
   ],
   "source": [
    "for banana in gene_list:\n",
    "    print(banana)"
   ]
  },
  {
   "cell_type": "markdown",
   "metadata": {},
   "source": [
    "A commonly used pattern is to loop a certain number of times using the `range` function:\n",
    "    \n",
    "The `range(n)` function returns a sequence of numbers, starting at `0` by default, and returning a total of `n` values."
   ]
  },
  {
   "cell_type": "code",
   "execution_count": 57,
   "metadata": {},
   "outputs": [
    {
     "name": "stdout",
     "output_type": "stream",
     "text": [
      "This is iteration #0\n",
      "This is iteration #1\n",
      "This is iteration #2\n",
      "This is iteration #3\n",
      "This is iteration #4\n",
      "This is iteration #5\n",
      "This is iteration #6\n",
      "This is iteration #7\n",
      "This is iteration #8\n",
      "This is iteration #9\n"
     ]
    }
   ],
   "source": [
    "for i in range(10):\n",
    "    print(f\"This is iteration #{i}\")"
   ]
  },
  {
   "cell_type": "markdown",
   "metadata": {},
   "source": [
    "Another type of loop is the `while` loop. This allows us to loop until a condition is met:"
   ]
  },
  {
   "cell_type": "code",
   "execution_count": 58,
   "metadata": {},
   "outputs": [
    {
     "name": "stdout",
     "output_type": "stream",
     "text": [
      "9\n",
      "8\n",
      "7\n",
      "6\n",
      "5\n",
      "4\n",
      "3\n",
      "2\n",
      "1\n"
     ]
    }
   ],
   "source": [
    "i = 10\n",
    "\n",
    "while i > 1:\n",
    "    i = i - 1\n",
    "    print(i)"
   ]
  },
  {
   "cell_type": "markdown",
   "metadata": {},
   "source": [
    "One danger of using a `while` loop is the potential to loop forever!\n",
    "\n",
    "Although `while` loops can be useful in some circumstances, there are often better options. If you think you need to use a while loop, consider if there is another (better) way of looping. Can you use a `for` loop instead?"
   ]
  },
  {
   "cell_type": "markdown",
   "metadata": {},
   "source": [
    "### A note about indentation\n",
    "\n",
    "You may note the particular indentation being used in the above examples. In Python, indentation is used to define a block of code. In the above examples, all indented code after the `for` statement is part of the `for` loop. Code that is no longer indented indicates that we have reached the end of the `for` loop. Note that we can also have multiple levels of indentation. What do you think the following code will do?\n",
    "\n",
    "```\n",
    "for i in [1, 2, 3]:\n",
    "    for j in [6, 7, 8]:\n",
    "        print(i * j)\n",
    "```"
   ]
  },
  {
   "cell_type": "markdown",
   "metadata": {},
   "source": [
    "## Conditionals"
   ]
  },
  {
   "cell_type": "markdown",
   "metadata": {},
   "source": [
    "We often want to perform a task only if a given condition is met.\n",
    "\n",
    "In Python, we do this with an `if` block (with an optional `elif` and `else` blocks):"
   ]
  },
  {
   "cell_type": "code",
   "execution_count": 59,
   "metadata": {},
   "outputs": [
    {
     "name": "stdout",
     "output_type": "stream",
     "text": [
      "We have high read coverage\n"
     ]
    }
   ],
   "source": [
    "read_depth = 561\n",
    "\n",
    "if read_depth < 10:\n",
    "    print(\"We have low read coverage\")\n",
    "elif read_depth < 100:\n",
    "    print(\"We have acceptable read coverage\")\n",
    "else:\n",
    "    print(\"We have high read coverage\")"
   ]
  },
  {
   "cell_type": "code",
   "execution_count": 60,
   "metadata": {},
   "outputs": [
    {
     "name": "stdout",
     "output_type": "stream",
     "text": [
      "We have acceptable read coverage\n"
     ]
    }
   ],
   "source": [
    "read_depth = 49\n",
    "\n",
    "if read_depth < 10:\n",
    "    print(\"We have low read coverage\")\n",
    "elif read_depth < 100:\n",
    "    print(\"We have acceptable read coverage\")\n",
    "else:\n",
    "    print(\"We have high read coverage\")"
   ]
  },
  {
   "cell_type": "markdown",
   "metadata": {},
   "source": [
    "Combined with `for` loops, `if` blocks allow us to create complex rules for processing data.\n",
    "\n",
    "However, there are often better ways of filtering and processing data using dedicated packages such as `numpy` or `pandas` &mdash; more on this later!"
   ]
  },
  {
   "cell_type": "markdown",
   "metadata": {},
   "source": [
    "# Part 4: Imports and packages"
   ]
  },
  {
   "cell_type": "markdown",
   "metadata": {
    "slideshow": {
     "slide_type": "slide"
    }
   },
   "source": [
    "### Imports"
   ]
  },
  {
   "cell_type": "markdown",
   "metadata": {},
   "source": [
    "One of the powerful aspects of Python (and most other programming languages) is the ability to utilise external libraries and packages to extend the base functionality of Python\n",
    "\n",
    "It is best-practice to keep all your imports at the top of your file or Notebook.\n",
    "\n",
    "You can either import a package or library directly:\n",
    "\n",
    "`import sklearn`\n",
    "\n",
    "or import a particular subpackage, function or object from a library:\n",
    "\n",
    "`from sklearn import datasets`\n",
    "\n",
    "You can also provide an alias for an imported package:\n",
    "\n",
    "`import numpy as np`\n",
    "\n",
    "Once a package has been imported, you can access the methods and objects from that package from the package name:\n",
    "\n",
    "`np.mean([1,2,3,4])`"
   ]
  },
  {
   "cell_type": "code",
   "execution_count": 61,
   "metadata": {},
   "outputs": [
    {
     "name": "stdout",
     "output_type": "stream",
     "text": [
      "0.23.4\n"
     ]
    }
   ],
   "source": [
    "import pandas\n",
    "\n",
    "print(pandas.__version__)"
   ]
  },
  {
   "cell_type": "markdown",
   "metadata": {},
   "source": [
    "You can also import functions and code from python files (ending in `.py`) in your local directory.\n",
    "\n",
    "In this example, I have created a file called `random_numbers.py`, and placed it in the same folder as my Jupyter Notebook.\n",
    "\n",
    "The contents of this file are:\n",
    "\n",
    "```\n",
    "import random\n",
    "\n",
    "def print_random_number():\n",
    "    '''Prints a random number between 0 and 1'''\n",
    "    return random.random()\n",
    "```\n",
    "\n",
    "We can import the function `print_random_number` from this file:"
   ]
  },
  {
   "cell_type": "code",
   "execution_count": 62,
   "metadata": {},
   "outputs": [
    {
     "data": {
      "text/plain": [
       "0.9319659068831242"
      ]
     },
     "execution_count": 62,
     "metadata": {},
     "output_type": "execute_result"
    }
   ],
   "source": [
    "from random_numbers import print_random_number\n",
    "\n",
    "print_random_number()"
   ]
  },
  {
   "cell_type": "markdown",
   "metadata": {},
   "source": [
    "You can also import Python code from other directories, however in the interests of time we won't discuss that further. If you are interested in how to structure a Python project or package, [this](https://docs.python.org/3/tutorial/modules.html#packages) is a good place to start."
   ]
  },
  {
   "cell_type": "markdown",
   "metadata": {},
   "source": [
    "### Useful packages\n",
    "\n",
    "While this list is by no means exhaustive, here are some of the key packages that you should be familiar with (i.e. they will make your life easier!):\n",
    "\n",
    "- [PANDAS](https://pandas.pydata.org/): Python data analysis library. Built on top of NumPy.\n",
    "- [NumPy](https://numpy.org/): Numerical Python library. Matrices, fast data processing, efficient subsetting of data arrays. Invaluable for any serious data work.\n",
    "- [SciPy](https://scipy.org/scipylib/): Routines for numerical integration, interpolation, optimization, linear algebra and statistics.\n",
    "- [Matplotlib](https://matplotlib.org/): Plotting. More plotting. So many beautiful plots.\n",
    "- [Seaborn](https://seaborn.pydata.org/): Statistical data visualisation. Beautiful plots with minimal work. Built on top of Matplotlib.\n",
    "- [BioPython](https://biopython.org/): A set of tools for dealing with biological data and databases.\n",
    "- [Scikit-Learn](https://scikit-learn.org/stable/): Tools for data mining, data analysis and machine learning.\n",
    "- [StatsModels](https://www.statsmodels.org): Statistical tests and data exploration."
   ]
  },
  {
   "cell_type": "markdown",
   "metadata": {},
   "source": [
    "# Part 5: Data manipulation and plotting"
   ]
  },
  {
   "cell_type": "markdown",
   "metadata": {},
   "source": [
    "## Data exploration with `pandas` and `matplotlib`"
   ]
  },
  {
   "cell_type": "markdown",
   "metadata": {},
   "source": [
    "Now that we've covered some of the basics of the Python language, we can explore some basic data analysis using the `pandas` and `matplotlib` Python libraries.\n",
    "\n",
    "If you are using Jupyter Lab through CloudStor or Binder, you should already have the required packages installed.\n",
    "\n",
    "If you get an error when you try to import the following libraries, you will have to install the relevant package with either `pip` or `conda` package managers (depending on how you have installed Python).\n",
    "\n",
    "This is as simple as running `pip install seaborn` or `conda install seaborn` in your terminal.\n",
    "\n",
    "\n"
   ]
  },
  {
   "cell_type": "markdown",
   "metadata": {},
   "source": [
    "### Import relevant librarires\n",
    "\n",
    "We begin by importing all the libraries we are likely to use. Don't worry if you're not sure what you will need later on - you can always import a library when you need it. However, it's good practice to keep your imports at the start of your analysis."
   ]
  },
  {
   "cell_type": "code",
   "execution_count": 63,
   "metadata": {},
   "outputs": [],
   "source": [
    "import numpy\n",
    "import pandas\n",
    "import seaborn\n",
    "from scipy import stats\n",
    "import matplotlib.pyplot as plt"
   ]
  },
  {
   "cell_type": "markdown",
   "metadata": {},
   "source": [
    "### Load and examine data\n",
    "\n",
    "We will now load a `.csv` data file using pandas. If you don't already have this file in your working directory, download it from [here](https://raw.githubusercontent.com/andrewguy/Training/master/Intro_to_Python/data/proteome_data.csv).\n",
    "\n",
    "Alternatively, you can run the following bash code in your Jupyter Notebook to automatically download the file into your working directory (the `%%bash` line is a bit of \"cell magic\" that tells Jupyter Notebook to run that cell as a bash command):\n",
    "\n",
    "(Note that this might not work if you are running a local Jupyter notebook on Windows.)"
   ]
  },
  {
   "cell_type": "code",
   "execution_count": 65,
   "metadata": {},
   "outputs": [
    {
     "name": "stderr",
     "output_type": "stream",
     "text": [
      "--2019-09-07 17:40:47--  https://raw.githubusercontent.com/andrewguy/Training/master/workshops/Intro_to_Python/data/proteome_data.csv\n",
      "Resolving raw.githubusercontent.com (raw.githubusercontent.com)... 151.101.80.133\n",
      "Connecting to raw.githubusercontent.com (raw.githubusercontent.com)|151.101.80.133|:443... connected.\n",
      "HTTP request sent, awaiting response... 200 OK\n",
      "Length: 263534 (257K) [text/plain]\n",
      "Saving to: 'proteome_data.csv’\n",
      "\n",
      "     0K .......... .......... .......... .......... .......... 19% 1.99M 0s\n",
      "    50K .......... .......... .......... .......... .......... 38% 8.85M 0s\n",
      "   100K .......... .......... .......... .......... .......... 58% 4.76M 0s\n",
      "   150K .......... .......... .......... .......... .......... 77% 2.02M 0s\n",
      "   200K .......... .......... .......... .......... .......... 97% 5.30M 0s\n",
      "   250K .......                                               100% 86.7M=0.07s\n",
      "\n",
      "2019-09-07 17:40:47 (3.41 MB/s) - 'proteome_data.csv’ saved [263534/263534]\n",
      "\n"
     ]
    }
   ],
   "source": [
    "%%bash\n",
    "wget https://raw.githubusercontent.com/andrewguy/Training/master/workshops/Intro_to_Python/data/proteome_data.csv"
   ]
  },
  {
   "cell_type": "code",
   "execution_count": 66,
   "metadata": {},
   "outputs": [],
   "source": [
    "gene_data = pandas.read_csv('proteome_data.csv', sep=',')"
   ]
  },
  {
   "cell_type": "markdown",
   "metadata": {},
   "source": [
    "The `gene_data` variable is a Pandas DataFrame:"
   ]
  },
  {
   "cell_type": "code",
   "execution_count": 67,
   "metadata": {},
   "outputs": [
    {
     "data": {
      "text/plain": [
       "pandas.core.frame.DataFrame"
      ]
     },
     "execution_count": 67,
     "metadata": {},
     "output_type": "execute_result"
    }
   ],
   "source": [
    "type(gene_data)"
   ]
  },
  {
   "cell_type": "markdown",
   "metadata": {},
   "source": [
    "We can use some of the built in DataFrame functions to examine the data. `head()` shows the first few rows, `describe()` calculates some basic summary statistics, while `info()` gives us detailed information on the columns and types of data in each column."
   ]
  },
  {
   "cell_type": "code",
   "execution_count": 68,
   "metadata": {},
   "outputs": [
    {
     "data": {
      "text/html": [
       "<div>\n",
       "<style scoped>\n",
       "    .dataframe tbody tr th:only-of-type {\n",
       "        vertical-align: middle;\n",
       "    }\n",
       "\n",
       "    .dataframe tbody tr th {\n",
       "        vertical-align: top;\n",
       "    }\n",
       "\n",
       "    .dataframe thead th {\n",
       "        text-align: right;\n",
       "    }\n",
       "</style>\n",
       "<table border=\"1\" class=\"dataframe\">\n",
       "  <thead>\n",
       "    <tr style=\"text-align: right;\">\n",
       "      <th></th>\n",
       "      <th>Protein ID</th>\n",
       "      <th>Disorder</th>\n",
       "      <th>Linear B-cell Epitopes</th>\n",
       "      <th>Tandem Repeats</th>\n",
       "      <th>Non-syn SNPs</th>\n",
       "      <th>Protein Length</th>\n",
       "      <th>Tajimas D (Guinea)</th>\n",
       "      <th>Tajimas D (Gambia)</th>\n",
       "    </tr>\n",
       "  </thead>\n",
       "  <tbody>\n",
       "    <tr>\n",
       "      <th>0</th>\n",
       "      <td>mal_mito_1</td>\n",
       "      <td>0.80</td>\n",
       "      <td>0.40</td>\n",
       "      <td>0.0</td>\n",
       "      <td>0.40</td>\n",
       "      <td>250</td>\n",
       "      <td>-99.0</td>\n",
       "      <td>-99.0</td>\n",
       "    </tr>\n",
       "    <tr>\n",
       "      <th>1</th>\n",
       "      <td>mal_mito_2</td>\n",
       "      <td>1.46</td>\n",
       "      <td>3.14</td>\n",
       "      <td>0.0</td>\n",
       "      <td>0.00</td>\n",
       "      <td>478</td>\n",
       "      <td>-99.0</td>\n",
       "      <td>-99.0</td>\n",
       "    </tr>\n",
       "    <tr>\n",
       "      <th>2</th>\n",
       "      <td>mal_mito_3</td>\n",
       "      <td>1.33</td>\n",
       "      <td>2.93</td>\n",
       "      <td>0.0</td>\n",
       "      <td>0.00</td>\n",
       "      <td>376</td>\n",
       "      <td>-99.0</td>\n",
       "      <td>-99.0</td>\n",
       "    </tr>\n",
       "    <tr>\n",
       "      <th>3</th>\n",
       "      <td>PF3D7_0100100</td>\n",
       "      <td>57.61</td>\n",
       "      <td>35.64</td>\n",
       "      <td>1.2</td>\n",
       "      <td>23.99</td>\n",
       "      <td>2163</td>\n",
       "      <td>-99.0</td>\n",
       "      <td>-99.0</td>\n",
       "    </tr>\n",
       "    <tr>\n",
       "      <th>4</th>\n",
       "      <td>PF3D7_0100200</td>\n",
       "      <td>8.16</td>\n",
       "      <td>7.55</td>\n",
       "      <td>0.0</td>\n",
       "      <td>15.11</td>\n",
       "      <td>331</td>\n",
       "      <td>-99.0</td>\n",
       "      <td>-99.0</td>\n",
       "    </tr>\n",
       "  </tbody>\n",
       "</table>\n",
       "</div>"
      ],
      "text/plain": [
       "      Protein ID  Disorder  Linear B-cell Epitopes  Tandem Repeats  \\\n",
       "0     mal_mito_1      0.80                    0.40             0.0   \n",
       "1     mal_mito_2      1.46                    3.14             0.0   \n",
       "2     mal_mito_3      1.33                    2.93             0.0   \n",
       "3  PF3D7_0100100     57.61                   35.64             1.2   \n",
       "4  PF3D7_0100200      8.16                    7.55             0.0   \n",
       "\n",
       "   Non-syn SNPs  Protein Length  Tajimas D (Guinea)  Tajimas D (Gambia)  \n",
       "0          0.40             250               -99.0               -99.0  \n",
       "1          0.00             478               -99.0               -99.0  \n",
       "2          0.00             376               -99.0               -99.0  \n",
       "3         23.99            2163               -99.0               -99.0  \n",
       "4         15.11             331               -99.0               -99.0  "
      ]
     },
     "execution_count": 68,
     "metadata": {},
     "output_type": "execute_result"
    }
   ],
   "source": [
    "gene_data.head()"
   ]
  },
  {
   "cell_type": "code",
   "execution_count": 69,
   "metadata": {},
   "outputs": [
    {
     "data": {
      "text/html": [
       "<div>\n",
       "<style scoped>\n",
       "    .dataframe tbody tr th:only-of-type {\n",
       "        vertical-align: middle;\n",
       "    }\n",
       "\n",
       "    .dataframe tbody tr th {\n",
       "        vertical-align: top;\n",
       "    }\n",
       "\n",
       "    .dataframe thead th {\n",
       "        text-align: right;\n",
       "    }\n",
       "</style>\n",
       "<table border=\"1\" class=\"dataframe\">\n",
       "  <thead>\n",
       "    <tr style=\"text-align: right;\">\n",
       "      <th></th>\n",
       "      <th>Disorder</th>\n",
       "      <th>Linear B-cell Epitopes</th>\n",
       "      <th>Tandem Repeats</th>\n",
       "      <th>Non-syn SNPs</th>\n",
       "      <th>Protein Length</th>\n",
       "      <th>Tajimas D (Guinea)</th>\n",
       "      <th>Tajimas D (Gambia)</th>\n",
       "    </tr>\n",
       "  </thead>\n",
       "  <tbody>\n",
       "    <tr>\n",
       "      <th>count</th>\n",
       "      <td>5247.000000</td>\n",
       "      <td>5247.000000</td>\n",
       "      <td>5247.000000</td>\n",
       "      <td>5247.000000</td>\n",
       "      <td>5247.000000</td>\n",
       "      <td>5247.000000</td>\n",
       "      <td>5247.000000</td>\n",
       "    </tr>\n",
       "    <tr>\n",
       "      <th>mean</th>\n",
       "      <td>22.233842</td>\n",
       "      <td>14.702384</td>\n",
       "      <td>3.237848</td>\n",
       "      <td>1.146499</td>\n",
       "      <td>778.699638</td>\n",
       "      <td>-46.702499</td>\n",
       "      <td>-46.524707</td>\n",
       "    </tr>\n",
       "    <tr>\n",
       "      <th>std</th>\n",
       "      <td>19.658567</td>\n",
       "      <td>10.035328</td>\n",
       "      <td>6.892031</td>\n",
       "      <td>3.304764</td>\n",
       "      <td>877.389801</td>\n",
       "      <td>48.561593</td>\n",
       "      <td>48.726494</td>\n",
       "    </tr>\n",
       "    <tr>\n",
       "      <th>min</th>\n",
       "      <td>0.160000</td>\n",
       "      <td>0.170000</td>\n",
       "      <td>0.000000</td>\n",
       "      <td>0.000000</td>\n",
       "      <td>35.000000</td>\n",
       "      <td>-99.000000</td>\n",
       "      <td>-99.000000</td>\n",
       "    </tr>\n",
       "    <tr>\n",
       "      <th>25%</th>\n",
       "      <td>7.180000</td>\n",
       "      <td>7.555000</td>\n",
       "      <td>0.000000</td>\n",
       "      <td>0.000000</td>\n",
       "      <td>275.000000</td>\n",
       "      <td>-99.000000</td>\n",
       "      <td>-99.000000</td>\n",
       "    </tr>\n",
       "    <tr>\n",
       "      <th>50%</th>\n",
       "      <td>15.920000</td>\n",
       "      <td>12.610000</td>\n",
       "      <td>0.000000</td>\n",
       "      <td>0.220000</td>\n",
       "      <td>477.000000</td>\n",
       "      <td>-2.380000</td>\n",
       "      <td>-2.060000</td>\n",
       "    </tr>\n",
       "    <tr>\n",
       "      <th>75%</th>\n",
       "      <td>32.195000</td>\n",
       "      <td>19.170000</td>\n",
       "      <td>4.140000</td>\n",
       "      <td>0.770000</td>\n",
       "      <td>956.000000</td>\n",
       "      <td>-1.780000</td>\n",
       "      <td>-1.440000</td>\n",
       "    </tr>\n",
       "    <tr>\n",
       "      <th>max</th>\n",
       "      <td>100.000000</td>\n",
       "      <td>91.190000</td>\n",
       "      <td>100.000000</td>\n",
       "      <td>28.160000</td>\n",
       "      <td>10287.000000</td>\n",
       "      <td>2.690000</td>\n",
       "      <td>2.590000</td>\n",
       "    </tr>\n",
       "  </tbody>\n",
       "</table>\n",
       "</div>"
      ],
      "text/plain": [
       "          Disorder  Linear B-cell Epitopes  Tandem Repeats  Non-syn SNPs  \\\n",
       "count  5247.000000             5247.000000     5247.000000   5247.000000   \n",
       "mean     22.233842               14.702384        3.237848      1.146499   \n",
       "std      19.658567               10.035328        6.892031      3.304764   \n",
       "min       0.160000                0.170000        0.000000      0.000000   \n",
       "25%       7.180000                7.555000        0.000000      0.000000   \n",
       "50%      15.920000               12.610000        0.000000      0.220000   \n",
       "75%      32.195000               19.170000        4.140000      0.770000   \n",
       "max     100.000000               91.190000      100.000000     28.160000   \n",
       "\n",
       "       Protein Length  Tajimas D (Guinea)  Tajimas D (Gambia)  \n",
       "count     5247.000000         5247.000000         5247.000000  \n",
       "mean       778.699638          -46.702499          -46.524707  \n",
       "std        877.389801           48.561593           48.726494  \n",
       "min         35.000000          -99.000000          -99.000000  \n",
       "25%        275.000000          -99.000000          -99.000000  \n",
       "50%        477.000000           -2.380000           -2.060000  \n",
       "75%        956.000000           -1.780000           -1.440000  \n",
       "max      10287.000000            2.690000            2.590000  "
      ]
     },
     "execution_count": 69,
     "metadata": {},
     "output_type": "execute_result"
    }
   ],
   "source": [
    "gene_data.describe()"
   ]
  },
  {
   "cell_type": "code",
   "execution_count": 70,
   "metadata": {},
   "outputs": [
    {
     "name": "stdout",
     "output_type": "stream",
     "text": [
      "<class 'pandas.core.frame.DataFrame'>\n",
      "RangeIndex: 5247 entries, 0 to 5246\n",
      "Data columns (total 8 columns):\n",
      "Protein ID                5247 non-null object\n",
      "Disorder                  5247 non-null float64\n",
      "Linear B-cell Epitopes    5247 non-null float64\n",
      "Tandem Repeats            5247 non-null float64\n",
      "Non-syn SNPs              5247 non-null float64\n",
      "Protein Length            5247 non-null int64\n",
      "Tajimas D (Guinea)        5247 non-null float64\n",
      "Tajimas D (Gambia)        5247 non-null float64\n",
      "dtypes: float64(6), int64(1), object(1)\n",
      "memory usage: 328.0+ KB\n"
     ]
    }
   ],
   "source": [
    "gene_data.info()"
   ]
  },
  {
   "cell_type": "markdown",
   "metadata": {},
   "source": [
    "To access data from a particular column, we can use square brackets `[]`, putting the column name within the brackets (like accessing a dictionary item):"
   ]
  },
  {
   "cell_type": "code",
   "execution_count": 71,
   "metadata": {},
   "outputs": [
    {
     "data": {
      "text/plain": [
       "0        0.80\n",
       "1        1.46\n",
       "2        1.33\n",
       "3       57.61\n",
       "4        8.16\n",
       "5       32.71\n",
       "6        2.69\n",
       "7        7.80\n",
       "8        2.99\n",
       "9        7.85\n",
       "10       5.14\n",
       "11      12.29\n",
       "12       7.44\n",
       "13       9.13\n",
       "14       4.26\n",
       "15       3.25\n",
       "16       6.92\n",
       "17       5.25\n",
       "18      50.51\n",
       "19       7.69\n",
       "20      55.14\n",
       "21      16.19\n",
       "22      16.67\n",
       "23       5.60\n",
       "24      14.54\n",
       "25      30.12\n",
       "26      36.84\n",
       "27       2.53\n",
       "28      27.89\n",
       "29      27.72\n",
       "        ...  \n",
       "5217     2.97\n",
       "5218    25.60\n",
       "5219    48.64\n",
       "5220    18.21\n",
       "5221     2.22\n",
       "5222    14.54\n",
       "5223     3.24\n",
       "5224    77.99\n",
       "5225     0.51\n",
       "5226    13.41\n",
       "5227     6.67\n",
       "5228    14.79\n",
       "5229     8.64\n",
       "5230    11.71\n",
       "5231    11.43\n",
       "5232     2.87\n",
       "5233     6.10\n",
       "5234     7.89\n",
       "5235     2.94\n",
       "5236     6.74\n",
       "5237     0.87\n",
       "5238     2.82\n",
       "5239     2.48\n",
       "5240     1.27\n",
       "5241     0.73\n",
       "5242    31.15\n",
       "5243    11.11\n",
       "5244     2.33\n",
       "5245     8.16\n",
       "5246     3.39\n",
       "Name: Disorder, Length: 5247, dtype: float64"
      ]
     },
     "execution_count": 71,
     "metadata": {},
     "output_type": "execute_result"
    }
   ],
   "source": [
    "# Get data for a particular column\n",
    "gene_data['Disorder']"
   ]
  },
  {
   "cell_type": "markdown",
   "metadata": {},
   "source": [
    "However, if your column names are valid Python variable names, you can access columns using the `.` syntax:\n",
    "\n",
    "(Note that we don't need to enclose the column name in quotes, unlike when accessing using `[]`."
   ]
  },
  {
   "cell_type": "code",
   "execution_count": 72,
   "metadata": {},
   "outputs": [
    {
     "data": {
      "text/plain": [
       "0        0.80\n",
       "1        1.46\n",
       "2        1.33\n",
       "3       57.61\n",
       "4        8.16\n",
       "5       32.71\n",
       "6        2.69\n",
       "7        7.80\n",
       "8        2.99\n",
       "9        7.85\n",
       "10       5.14\n",
       "11      12.29\n",
       "12       7.44\n",
       "13       9.13\n",
       "14       4.26\n",
       "15       3.25\n",
       "16       6.92\n",
       "17       5.25\n",
       "18      50.51\n",
       "19       7.69\n",
       "20      55.14\n",
       "21      16.19\n",
       "22      16.67\n",
       "23       5.60\n",
       "24      14.54\n",
       "25      30.12\n",
       "26      36.84\n",
       "27       2.53\n",
       "28      27.89\n",
       "29      27.72\n",
       "        ...  \n",
       "5217     2.97\n",
       "5218    25.60\n",
       "5219    48.64\n",
       "5220    18.21\n",
       "5221     2.22\n",
       "5222    14.54\n",
       "5223     3.24\n",
       "5224    77.99\n",
       "5225     0.51\n",
       "5226    13.41\n",
       "5227     6.67\n",
       "5228    14.79\n",
       "5229     8.64\n",
       "5230    11.71\n",
       "5231    11.43\n",
       "5232     2.87\n",
       "5233     6.10\n",
       "5234     7.89\n",
       "5235     2.94\n",
       "5236     6.74\n",
       "5237     0.87\n",
       "5238     2.82\n",
       "5239     2.48\n",
       "5240     1.27\n",
       "5241     0.73\n",
       "5242    31.15\n",
       "5243    11.11\n",
       "5244     2.33\n",
       "5245     8.16\n",
       "5246     3.39\n",
       "Name: Disorder, Length: 5247, dtype: float64"
      ]
     },
     "execution_count": 72,
     "metadata": {},
     "output_type": "execute_result"
    }
   ],
   "source": [
    "gene_data.Disorder"
   ]
  },
  {
   "cell_type": "markdown",
   "metadata": {},
   "source": [
    "We could also use an external library (such as `scipy.stats`) to get some basic summary statistics for a column. Note that `stats` was imported from `scipy` earlier."
   ]
  },
  {
   "cell_type": "code",
   "execution_count": 73,
   "metadata": {},
   "outputs": [
    {
     "data": {
      "text/plain": [
       "DescribeResult(nobs=5247, minmax=(0.16, 100.0), mean=22.23384219554031, variance=386.4592723868353, skewness=1.2867352707379653, kurtosis=1.3764282593472768)"
      ]
     },
     "execution_count": 73,
     "metadata": {},
     "output_type": "execute_result"
    }
   ],
   "source": [
    "stats.describe(gene_data['Disorder'])"
   ]
  },
  {
   "cell_type": "markdown",
   "metadata": {},
   "source": [
    "We can als use the default plotting capabilities in `pandas` to plot a quick histogram of the data:"
   ]
  },
  {
   "cell_type": "code",
   "execution_count": 74,
   "metadata": {},
   "outputs": [
    {
     "data": {
      "text/plain": [
       "array([[<matplotlib.axes._subplots.AxesSubplot object at 0x7f41ee1adef0>]],\n",
       "      dtype=object)"
      ]
     },
     "execution_count": 74,
     "metadata": {},
     "output_type": "execute_result"
    },
    {
     "data": {
      "image/png": "[encoded data removed]",
      "text/plain": [
       "<Figure size 432x288 with 1 Axes>"
      ]
     },
     "metadata": {
      "needs_background": "light"
     },
     "output_type": "display_data"
    }
   ],
   "source": [
    "gene_data.hist(column='Disorder')"
   ]
  },
  {
   "cell_type": "markdown",
   "metadata": {},
   "source": [
    "We might want to add more bins to the histogram - we can do this with the `bins` argument in the `hist` function:"
   ]
  },
  {
   "cell_type": "code",
   "execution_count": 75,
   "metadata": {},
   "outputs": [
    {
     "data": {
      "text/plain": [
       "array([[<matplotlib.axes._subplots.AxesSubplot object at 0x7f41ee061eb8>]],\n",
       "      dtype=object)"
      ]
     },
     "execution_count": 75,
     "metadata": {},
     "output_type": "execute_result"
    },
    {
     "data": {
      "image/png": "[encoded data removed]",
      "text/plain": [
       "<Figure size 432x288 with 1 Axes>"
      ]
     },
     "metadata": {
      "needs_background": "light"
     },
     "output_type": "display_data"
    }
   ],
   "source": [
    "gene_data.hist(column='Disorder', bins=20)"
   ]
  },
  {
   "cell_type": "markdown",
   "metadata": {},
   "source": [
    "### Using Matplotlib\n",
    "\n",
    "While we can use the built in plotting functions in `Pandas`, you will end up needing to use `matplotlib` to build more complicated plots.\n",
    "\n",
    "There are two main ways of plotting with `matplotlib`, which can be very confusing when trying to combine examples from Google!\n",
    "\n",
    "In brief, these two interfaces are:\n",
    "- MATLAB style plotting using pyplot\n",
    "- Object Oriented Interface\n",
    "\n",
    "We have decided to demonstrate the Object Oriented Interface here, because we feel that this is ultimately more powerful, and arguably much easier to use when constructing complex mutli-panel figures, or working with several figures at once.\n",
    "\n",
    "With that out of the way, on to some plotting!\n",
    "\n"
   ]
  },
  {
   "cell_type": "markdown",
   "metadata": {},
   "source": [
    "We start by creating a [`Figure`](https://matplotlib.org/api/_as_gen/matplotlib.figure.Figure.html#matplotlib.figure.Figure) object. We need to define a bit of `matplotlib` terminology here.\n",
    "\n",
    "- `Figure` object: A container for all your individual plots.\n",
    "- `Axes` object: An individual plot. Can be multiple `axes` on a `Figure`.\n",
    "\n",
    "If we're considering a mutlipanel figure in a scientific journal, the `Figure` object would be the overall figure, whereas the `Axes` would be each individual panel. Don't confuse the `Axes` object with an axis on a plot (e.g. x-axis). These are different things!\n",
    "\n",
    "### Creating a scatter plot\n",
    "The following code creates a figure with a single panel (one `Axes` object). We are going to set the figure size (in inches, not pixels!). Note the use of a `tuple` to specify figure size.\n",
    "\n",
    "We then create a `scatter` plot on the `Axes` object, setting `x` and `y` values to be Protein Length and level of Disorder respectively:"
   ]
  },
  {
   "cell_type": "code",
   "execution_count": 76,
   "metadata": {
    "slideshow": {
     "slide_type": "slide"
    }
   },
   "outputs": [
    {
     "name": "stderr",
     "output_type": "stream",
     "text": [
      "/home/andrew/anaconda3/lib/python3.7/site-packages/matplotlib/figure.py:457: UserWarning: matplotlib is currently using a non-GUI backend, so cannot show the figure\n",
      "  \"matplotlib is currently using a non-GUI backend, \"\n"
     ]
    },
    {
     "data": {
      "image/png": "[encoded data removed]",
      "text/plain": [
       "<Figure size 360x288 with 1 Axes>"
      ]
     },
     "metadata": {
      "needs_background": "light"
     },
     "output_type": "display_data"
    }
   ],
   "source": [
    "fig, ax = plt.subplots(figsize=(5, 4))\n",
    "\n",
    "# Now, using the `ax` object, we draw a scatter plot\n",
    "ax.scatter(x=gene_data['Protein Length'], y=gene_data['Disorder'])\n",
    "\n",
    "fig.show()"
   ]
  },
  {
   "cell_type": "markdown",
   "metadata": {},
   "source": [
    "This plot is OK, but could do with some polishing. We can't really see all of the points (maybe a density estimation plot would be better??), and we need some labels..."
   ]
  },
  {
   "cell_type": "code",
   "execution_count": 77,
   "metadata": {},
   "outputs": [
    {
     "name": "stderr",
     "output_type": "stream",
     "text": [
      "/home/andrew/anaconda3/lib/python3.7/site-packages/matplotlib/figure.py:457: UserWarning: matplotlib is currently using a non-GUI backend, so cannot show the figure\n",
      "  \"matplotlib is currently using a non-GUI backend, \"\n"
     ]
    },
    {
     "data": {
      "image/png": "[encoded data removed]",
      "text/plain": [
       "<Figure size 360x288 with 1 Axes>"
      ]
     },
     "metadata": {
      "needs_background": "light"
     },
     "output_type": "display_data"
    }
   ],
   "source": [
    "# Initialise a figure, with a number of subplots. Each subplot is called an axis - this is what we draw our plot on.\n",
    "fig, ax = plt.subplots(figsize=(5, 4))\n",
    "\n",
    "# Now, using the `ax` object, we draw a scatter plot. Set point size to 3.\n",
    "# We also add a bit of transparency to each pont (alpha = 0.3)\n",
    "ax.scatter(x=gene_data['Protein Length'], y=gene_data['Disorder'], s=3, alpha=0.3)\n",
    "\n",
    "ax.set_ylabel(\"Percentage Disorder\")\n",
    "\n",
    "ax.set_xlabel(\"Protein Length\")\n",
    "\n",
    "# Show the plot so far...\n",
    "fig.show()\n",
    "\n",
    "# Save the figure...\n",
    "fig.savefig(\"disorder_vs_length_scatter.png\")"
   ]
  },
  {
   "cell_type": "markdown",
   "metadata": {},
   "source": [
    "We still have an issue with the number of data points. To deal with this, we can do a kernel density estimation.\n",
    "\n",
    "We will use the seaborn library to do this. Seaborn provides some very nice plotting functions, with a very simple interface."
   ]
  },
  {
   "cell_type": "code",
   "execution_count": 78,
   "metadata": {},
   "outputs": [
    {
     "name": "stderr",
     "output_type": "stream",
     "text": [
      "/home/andrew/anaconda3/lib/python3.7/site-packages/scipy/stats/stats.py:1713: FutureWarning: Using a non-tuple sequence for multidimensional indexing is deprecated; use `arr[tuple(seq)]` instead of `arr[seq]`. In the future this will be interpreted as an array index, `arr[np.array(seq)]`, which will result either in an error or a different result.\n",
      "  return np.add.reduce(sorted[indexer] * weights, axis=axis) / sumval\n"
     ]
    },
    {
     "data": {
      "image/png": "[encoded data removed]",
      "text/plain": [
       "<Figure size 432x432 with 3 Axes>"
      ]
     },
     "metadata": {
      "needs_background": "light"
     },
     "output_type": "display_data"
    }
   ],
   "source": [
    "kde_plot = seaborn.jointplot(x=\"Protein Length\", y=\"Disorder\", data=gene_data, kind=\"kde\")"
   ]
  },
  {
   "cell_type": "markdown",
   "metadata": {},
   "source": [
    "We could also show the data as a hex-bin plot:"
   ]
  },
  {
   "cell_type": "code",
   "execution_count": 79,
   "metadata": {},
   "outputs": [
    {
     "name": "stderr",
     "output_type": "stream",
     "text": [
      "/home/andrew/anaconda3/lib/python3.7/site-packages/scipy/stats/stats.py:1713: FutureWarning: Using a non-tuple sequence for multidimensional indexing is deprecated; use `arr[tuple(seq)]` instead of `arr[seq]`. In the future this will be interpreted as an array index, `arr[np.array(seq)]`, which will result either in an error or a different result.\n",
      "  return np.add.reduce(sorted[indexer] * weights, axis=axis) / sumval\n"
     ]
    },
    {
     "data": {
      "image/png": "[encoded data removed]",
      "text/plain": [
       "<Figure size 432x432 with 3 Axes>"
      ]
     },
     "metadata": {
      "needs_background": "light"
     },
     "output_type": "display_data"
    }
   ],
   "source": [
    "hex_plot = seaborn.jointplot(x=\"Protein Length\", y=\"Disorder\", data=gene_data, kind=\"hex\")"
   ]
  },
  {
   "cell_type": "markdown",
   "metadata": {},
   "source": [
    "If we want to save the figures for later use, we just call the `savefig` function:"
   ]
  },
  {
   "cell_type": "code",
   "execution_count": 80,
   "metadata": {},
   "outputs": [],
   "source": [
    "kde_plot.savefig('kde_plot.png')\n",
    "hex_plot.savefig('hex_plot.png')"
   ]
  },
  {
   "cell_type": "markdown",
   "metadata": {},
   "source": [
    "It's also worth saving files as `.svg`, which is a vector graphics format. This means you can easily make small adjustments in a program such as Adobe Illustrator or Inkscape."
   ]
  },
  {
   "cell_type": "code",
   "execution_count": 81,
   "metadata": {},
   "outputs": [],
   "source": [
    "kde_plot.savefig('kde_plot.svg')\n",
    "hex_plot.savefig('hex_plot.svg')"
   ]
  },
  {
   "cell_type": "markdown",
   "metadata": {},
   "source": [
    "# Part 6: Getting help"
   ]
  },
  {
   "cell_type": "markdown",
   "metadata": {},
   "source": [
    "There are a number of ways to get help or figure out how to do something new:\n",
    "    \n",
    "- Google it\n",
    "- Stackoverflow\n",
    "- Read the documentation (often surprisingly useful)\n",
    "- Look at the source code (can be difficult, but sometimes needed)\n",
    "\n",
    "Generally:\n",
    "\n",
    "- If you don't know what tools you need, or what packages you need to use: **Google or Stackoverflow**\n",
    "- If you are having trouble with code not working, an unusual error etc: **Google or Stackoverflow**\n",
    "- If you want to know details about a specific package or function: **Documentation or source code.** Google or Stackoverflow if this doesn't help."
   ]
  },
  {
   "cell_type": "markdown",
   "metadata": {},
   "source": [
    "Being a proficient coder is not about knowing the details of every package, but rather knowing how to search for this information effectively..."
   ]
  },
  {
   "cell_type": "markdown",
   "metadata": {},
   "source": [
    "# Extras"
   ]
  },
  {
   "cell_type": "markdown",
   "metadata": {},
   "source": [
    "## Python Style Guide\n",
    "\n",
    "The [Python Enhancement Proposal 8 (PEP 8)](https://www.python.org/dev/peps/pep-0008/) outlines coding conventions when it comes to writing Python code. While there are a lot of different ways that you could *technically* write valid Python code, enforcing consistency in coding style makes reading other people's code much easier. Plus it's one less thing for you to have to decide on as a programmer!\n",
    "\n",
    "It is worth having a read through the PEP 8 document [here](https://www.python.org/dev/peps/pep-0008/) and absorbing what you can. While some of the guidelines may not make sense at this stage in your Python journey, others should be easy to implement immediately. For example, always use 4 spaces for indentation (A tab is bad. Two spaces is worse)."
   ]
  },
  {
   "cell_type": "markdown",
   "metadata": {},
   "source": [
    "### Easter eggs..."
   ]
  },
  {
   "cell_type": "code",
   "execution_count": 83,
   "metadata": {},
   "outputs": [],
   "source": [
    "import this"
   ]
  },
  {
   "cell_type": "code",
   "execution_count": 82,
   "metadata": {},
   "outputs": [
    {
     "ename": "SyntaxError",
     "evalue": "not a chance (<ipython-input-82-6d5c5b2f0daf>, line 1)",
     "output_type": "error",
     "traceback": [
      "\u001b[0;36m  File \u001b[0;32m\"<ipython-input-82-6d5c5b2f0daf>\"\u001b[0;36m, line \u001b[0;32m1\u001b[0m\n\u001b[0;31m    from __future__ import braces\u001b[0m\n\u001b[0m                                 ^\u001b[0m\n\u001b[0;31mSyntaxError\u001b[0m\u001b[0;31m:\u001b[0m not a chance\n"
     ]
    }
   ],
   "source": [
    "from __future__ import braces"
   ]
  },
  {
   "cell_type": "code",
   "execution_count": 84,
   "metadata": {},
   "outputs": [],
   "source": [
    "import antigravity"
   ]
  },
  {
   "cell_type": "code",
   "execution_count": 3,
   "metadata": {},
   "outputs": [
    {
     "name": "stdout",
     "output_type": "stream",
     "text": [
      "['False', 'None', 'True', 'and', 'as', 'assert', 'async', 'await', 'break', 'class', 'continue', 'def', 'del', 'elif', 'else', 'except', 'finally', 'for', 'from', 'global', 'if', 'import', 'in', 'is', 'lambda', 'nonlocal', 'not', 'or', 'pass', 'raise', 'return', 'try', 'while', 'with', 'yield']\n"
     ]
    }
   ],
   "source": [
    "import keyword\n",
    "\n",
    "keyword.kwlist"
   ]
  },
  {
   "cell_type": "code",
   "execution_count": null,
   "metadata": {},
   "outputs": [],
   "source": []
  }
 ],
 "metadata": {
  "kernelspec": {
   "display_name": "Python 3",
   "language": "python",
   "name": "python3"
  },
  "language_info": {
   "codemirror_mode": {
    "name": "ipython",
    "version": 3
   },
   "file_extension": ".py",
   "mimetype": "text/x-python",
   "name": "python",
   "nbconvert_exporter": "python",
   "pygments_lexer": "ipython3",
   "version": "3.7.2"
  }
 },
 "nbformat": 4,
 "nbformat_minor": 4
}
